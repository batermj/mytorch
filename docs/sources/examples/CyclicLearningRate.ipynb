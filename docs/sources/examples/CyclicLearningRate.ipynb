{
 "cells": [
  {
   "cell_type": "markdown",
   "metadata": {},
   "source": [
    "# Cyclical Learning Rate Scheduler for PyTorch"
   ]
  },
  {
   "cell_type": "code",
   "execution_count": 5,
   "metadata": {},
   "outputs": [],
   "source": [
    "from mytorch.learning_rate import CyclicalLearningRate"
   ]
  },
  {
   "cell_type": "markdown",
   "metadata": {},
   "source": [
    "## Concept"
   ]
  },
  {
   "cell_type": "markdown",
   "metadata": {},
   "source": [
    "In his paper [1], Leslie N. Smith introduced the concept of cyclical learning rates, that is, learning rates that periodically alternative between a user-specified minimum and maximum learning rate. \n",
    "\n",
    "Varying the learning rate between between specified bounds, as implemented by Smith, is cheaper to compute than the nowadays popular approach using adaptive learning rates. Note that adaptive learning rate can also be combined with the concept of cyclical learning rates.\n",
    "\n",
    "The idea behind cyclical learning rates is that while increasing the learning rate can be harmful short term it can be beneficial in the long run. Concretely, the three methods introduced by Smith (and implemented in this notebook) are\n",
    "\n",
    "- `triangular`: The base approach, varying between a lower and an upper bound, as illustrated in the figure below\n",
    "- `triangular2`: Same as triangular, but learning rate difference is cut in half at the end of each cycle. This means the learning rate difference drops after each cycle\n",
    "-- `exp_range`: The learning rate varies between the minimum and maximum boundaries and each boundary value declines by an exponential factor of $gamma^{iteration}$\n",
    "\n",
    "\n",
    "![](images/cyclical-lr.png)\n",
    "\n",
    "\n",
    "### References\n",
    "\n",
    "\n",
    "- [1] Smith, Leslie N. “[Cyclical learning rates for training neural networks](https://ieeexplore.ieee.org/abstract/document/7926641/).” Applications of Computer Vision (WACV), 2017 IEEE Winter Conference on. IEEE, 2017."
   ]
  },
  {
   "cell_type": "markdown",
   "metadata": {},
   "source": [
    "## Example: triangular learning rate"
   ]
  },
  {
   "cell_type": "markdown",
   "metadata": {},
   "source": [
    "### Placeholder model"
   ]
  },
  {
   "cell_type": "code",
   "execution_count": 42,
   "metadata": {},
   "outputs": [],
   "source": [
    "import torch\n",
    "import torch.nn as nn\n",
    "import torch.nn.functional as F\n",
    "\n",
    "\n",
    "class Net(nn.Module):\n",
    "    def __init__(self):\n",
    "        super(Net, self).__init__()\n",
    "        self.fc1 = nn.Linear(1, 1)\n",
    "    def forward(self, x):\n",
    "        x = self.fc1(x)\n",
    "        return x\n",
    "\n",
    "model = Net()"
   ]
  },
  {
   "cell_type": "code",
   "execution_count": 43,
   "metadata": {},
   "outputs": [],
   "source": [
    "num_epochs = 50\n",
    "train_size = 50000\n",
    "batch_size = 100\n",
    "iterations_per_epoch = train_size // batch_size\n",
    "\n",
    "# Set step size to 4 epochs (cycle length = 8 epochs):\n",
    "step_size = 4 * iterations_per_epoch\n",
    "\n",
    "collected_lr = []\n",
    "\n",
    "optimizer = torch.optim.SGD(model.parameters(), lr=0.01)\n",
    "scheduler = CyclicalLearningRate(optimizer, step_size=step_size, max_lr=0.06)\n",
    "for epoch in range(num_epochs):\n",
    "    for batch in range(iterations_per_epoch):\n",
    "        # train(...)\n",
    "        # validate(...)\n",
    "        # note that the scheduler should be called\n",
    "        # after each batch (not only after each epoch)\n",
    "        scheduler.step()\n",
    "        \n",
    "        collected_lr.append(optimizer.param_groups[0]['lr'])"
   ]
  },
  {
   "cell_type": "code",
   "execution_count": 44,
   "metadata": {},
   "outputs": [
    {
     "data": {
      "image/png": "[encoded data removed]",
      "text/plain": [
       "<Figure size 432x288 with 2 Axes>"
      ]
     },
     "metadata": {},
     "output_type": "display_data"
    }
   ],
   "source": [
    "%matplotlib inline\n",
    "import matplotlib.pyplot as plt\n",
    "\n",
    "\n",
    "fig = plt.figure()\n",
    "ax1 = fig.add_subplot(111)\n",
    "ax2 = ax1.twiny()\n",
    "\n",
    "\n",
    "ax1.scatter(range(len(collected_lr)), collected_lr)\n",
    "ax1.set_xlabel('Batch step count')\n",
    "\n",
    "ax2.scatter([lr / iterations_per_epoch \n",
    "             for lr in range(len(collected_lr))], collected_lr)\n",
    "ax2.set_xlabel('Epoch count')\n",
    "\n",
    "plt.show()"
   ]
  },
  {
   "cell_type": "markdown",
   "metadata": {},
   "source": [
    "## Example: `triangular2` learning rate"
   ]
  },
  {
   "cell_type": "code",
   "execution_count": 45,
   "metadata": {},
   "outputs": [
    {
     "data": {
      "image/png": "[encoded data removed]",
      "text/plain": [
       "<Figure size 432x288 with 2 Axes>"
      ]
     },
     "metadata": {},
     "output_type": "display_data"
    }
   ],
   "source": [
    "collected_lr = []\n",
    "\n",
    "optimizer = torch.optim.SGD(model.parameters(), lr=0.01)\n",
    "scheduler = CyclicalLearningRate(optimizer,\n",
    "                                 step_size=step_size,\n",
    "                                 max_lr=0.06,\n",
    "                                 mode='triangular2')\n",
    "for epoch in range(num_epochs):\n",
    "    for batch in range(iterations_per_epoch):\n",
    "        # train(...)\n",
    "        # validate(...)\n",
    "        # note that the scheduler should be called\n",
    "        # after each batch (not only after each epoch)\n",
    "        scheduler.step()\n",
    "        \n",
    "        collected_lr.append(optimizer.param_groups[0]['lr'])\n",
    "        \n",
    "        \n",
    "fig = plt.figure()\n",
    "ax1 = fig.add_subplot(111)\n",
    "ax2 = ax1.twiny()\n",
    "\n",
    "ax1.scatter(range(len(collected_lr)), collected_lr)\n",
    "ax1.set_xlabel('Batch step count')\n",
    "\n",
    "ax2.scatter([lr / iterations_per_epoch \n",
    "            for lr in range(len(collected_lr))], collected_lr)\n",
    "ax2.set_xlabel('Epoch count')\n",
    "\n",
    "plt.show()"
   ]
  },
  {
   "cell_type": "markdown",
   "metadata": {},
   "source": [
    "## Example: `exp_range` learning rate"
   ]
  },
  {
   "cell_type": "code",
   "execution_count": 50,
   "metadata": {},
   "outputs": [
    {
     "data": {
      "image/png": "[encoded data removed]",
      "text/plain": [
       "<Figure size 432x288 with 2 Axes>"
      ]
     },
     "metadata": {},
     "output_type": "display_data"
    }
   ],
   "source": [
    "collected_lr = []\n",
    "\n",
    "optimizer = torch.optim.SGD(model.parameters(), lr=0.01)\n",
    "scheduler = CyclicalLearningRate(optimizer,\n",
    "                                 step_size=step_size,\n",
    "                                 max_lr=0.06,\n",
    "                                 mode='exp_range',\n",
    "                                 gamma=0.99995)\n",
    "for epoch in range(num_epochs):\n",
    "    for batch in range(iterations_per_epoch):\n",
    "        # train(...)\n",
    "        # validate(...)\n",
    "        # note that the scheduler should be called\n",
    "        # after each batch (not only after each epoch)\n",
    "        scheduler.step()\n",
    "        \n",
    "        collected_lr.append(optimizer.param_groups[0]['lr'])\n",
    "        \n",
    "        \n",
    "fig = plt.figure()\n",
    "ax1 = fig.add_subplot(111)\n",
    "ax2 = ax1.twiny()\n",
    "\n",
    "ax1.scatter(range(len(collected_lr)), collected_lr)\n",
    "ax1.set_xlabel('Batch step count')\n",
    "\n",
    "ax2.scatter([lr / iterations_per_epoch \n",
    "             for lr in range(len(collected_lr))], collected_lr)\n",
    "ax2.set_xlabel('Epoch count')\n",
    "\n",
    "plt.show()"
   ]
  }
 ],
 "metadata": {
  "kernelspec": {
   "display_name": "Python 3",
   "language": "python",
   "name": "python3"
  },
  "language_info": {
   "codemirror_mode": {
    "name": "ipython",
    "version": 3
   },
   "file_extension": ".py",
   "mimetype": "text/x-python",
   "name": "python",
   "nbconvert_exporter": "python",
   "pygments_lexer": "ipython3",
   "version": "3.6.6"
  }
 },
 "nbformat": 4,
 "nbformat_minor": 2
}
