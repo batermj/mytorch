{
 "cells": [
  {
   "cell_type": "markdown",
   "metadata": {
    "colab_type": "text",
    "id": "gsn45i8AWUxw"
   },
   "source": [
    "*Accompanying code examples of the book \"Introduction to Artificial Neural Networks and Deep Learning: A Practical Guide with Applications in Python\" by [Sebastian Raschka](https://sebastianraschka.com). All code examples are released under the [MIT license](https://github.com/rasbt/deep-learning-book/blob/master/LICENSE). If you find this content useful, please consider supporting the work by buying a [copy of the book](https://leanpub.com/ann-and-deeplearning).*\n",
    "  \n",
    "Other code examples and content are available on [GitHub](https://github.com/rasbt/deep-learning-book). The PDF and ebook versions of the book are available through [Leanpub](https://leanpub.com/ann-and-deeplearning)."
   ]
  },
  {
   "cell_type": "code",
   "execution_count": 3,
   "metadata": {
    "colab": {
     "autoexec": {
      "startup": false,
      "wait_interval": 0
     },
     "base_uri": "https://localhost:8080/",
     "height": 119
    },
    "colab_type": "code",
    "executionInfo": {
     "elapsed": 565,
     "status": "ok",
     "timestamp": 1533766546698,
     "user": {
      "displayName": "Sebastian Raschka",
      "photoUrl": "//lh6.googleusercontent.com/-cxK6yOSQ6uE/AAAAAAAAAAI/AAAAAAAAIfw/P9ar_CHsKOQ/s50-c-k-no/photo.jpg",
      "userId": "118404394130788869227"
     },
     "user_tz": 300
    },
    "id": "jcO_pGrwWUxx",
    "outputId": "f9fe091d-9a81-4d37-8e39-4aee6b55841d"
   },
   "outputs": [
    {
     "name": "stdout",
     "output_type": "stream",
     "text": [
      "Sebastian Raschka \n",
      "\n",
      "CPython 3.6.3\n",
      "IPython 5.5.0\n",
      "\n",
      "torch 0.4.1\n"
     ]
    }
   ],
   "source": [
    "%load_ext watermark\n",
    "%watermark -a 'Sebastian Raschka' -v -p torch"
   ]
  },
  {
   "cell_type": "markdown",
   "metadata": {
    "colab_type": "text",
    "id": "yaPAGojpWUx2"
   },
   "source": [
    "- Runs on CPU or GPU (if available)"
   ]
  },
  {
   "cell_type": "markdown",
   "metadata": {
    "colab_type": "text",
    "id": "lYFsqMPGWUx3"
   },
   "source": [
    "# Model Zoo -- Cyclical Learning Rate"
   ]
  },
  {
   "cell_type": "markdown",
   "metadata": {
    "colab_type": "text",
    "id": "Fa9mT_urXvMf"
   },
   "source": [
    "This notebook will go over the following topics in the order listed below:\n",
    "\n",
    "1. Briefly explain the concept behind the cyclical learning rate\n",
    "2. Use the \"LR range test\" to choose a good base and max learning rate for the cyclical leraning rate\n",
    "3. Train a simple convolutional neural net on CIFAR-10 using the cyclical learning rate"
   ]
  },
  {
   "cell_type": "markdown",
   "metadata": {
    "colab_type": "text",
    "id": "HqJXinN5WUx3"
   },
   "source": [
    "## Cyclical Learning Rate Concept"
   ]
  },
  {
   "cell_type": "markdown",
   "metadata": {
    "colab_type": "text",
    "id": "8Q6XUX6GSYD-"
   },
   "source": [
    "In his paper [1], Leslie N. Smith introduced the concept of cyclical learning rates, that is, learning rates that periodically alternative between a user-specified minimum and maximum learning rate. \n",
    "\n",
    "Varying the learning rate between between specified bounds, as implemented by Smith, is cheaper to compute than the nowadays popular approach using adaptive learning rates. Note that adaptive learning rate can also be combined with the concept of cyclical learning rates.\n",
    "\n",
    "The idea behind cyclical learning rates is that while increasing the learning rate can be harmful short term it can be beneficial in the long run. Concretely, the three methods introduced by Smith (and implemented in this notebook) are\n",
    "\n",
    "- `triangular`: The base approach, varying between a lower and an upper bound, as illustrated in the figure below\n",
    "- `triangular2`: Same as triangular, but learning rate difference is cut in half at the end of each cycle. This means the learning rate difference drops after each cycle\n",
    "-- `exp_range`: The learning rate varies between the minimum and maximum boundaries and each boundary value declines by an exponential factor of $gamma^{iteration}$\n",
    "\n",
    "\n",
    "![](images/cyclical-learning-rate/cyclical-lr.png)\n",
    "\n",
    "\n",
    "### References\n",
    "\n",
    "\n",
    "- [1] Smith, Leslie N. “[Cyclical learning rates for training neural networks](https://ieeexplore.ieee.org/abstract/document/7926641/).” Applications of Computer Vision (WACV), 2017 IEEE Winter Conference on. IEEE, 2017."
   ]
  },
  {
   "cell_type": "markdown",
   "metadata": {
    "colab_type": "text",
    "id": "wx0idSn5SWG1"
   },
   "source": [
    "Following the description in the paper, the different cyclical learning rates are very simple to implement, as shown below:"
   ]
  },
  {
   "cell_type": "code",
   "execution_count": 0,
   "metadata": {
    "colab": {
     "autoexec": {
      "startup": false,
      "wait_interval": 0
     }
    },
    "colab_type": "code",
    "id": "WmHAbUMlWUx4"
   },
   "outputs": [],
   "source": [
    "import numpy as np\n",
    "\n",
    "\n",
    "def cyclical_learning_rate(batch_step,\n",
    "                           step_size,\n",
    "                           base_lr=0.001,\n",
    "                           max_lr=0.006,\n",
    "                           mode='triangular',\n",
    "                           gamma=0.999995):\n",
    "\n",
    "    cycle = np.floor(1 + batch_step / (2. * step_size))\n",
    "    x = np.abs(batch_step / float(step_size) - 2 * cycle + 1)\n",
    "\n",
    "    lr_delta = (max_lr - base_lr) * np.maximum(0, (1 - x))\n",
    "    \n",
    "    if mode == 'triangular':\n",
    "        pass\n",
    "    elif mode == 'triangular2':\n",
    "        lr_delta = lr_delta * 1 / (2. ** (cycle - 1))\n",
    "    elif mode == 'exp_range':\n",
    "        lr_delta = lr_delta * (gamma**(batch_step))\n",
    "    else:\n",
    "        raise ValueError('mode must be \"triangular\", \"triangular2\", or \"exp_range\"')\n",
    "        \n",
    "    lr = base_lr + lr_delta\n",
    "    \n",
    "    return lr"
   ]
  },
  {
   "cell_type": "markdown",
   "metadata": {
    "colab_type": "text",
    "id": "DwyuJm46YXQf"
   },
   "source": [
    "To ensure that the learning rate works as intended, let us plot the learning rate variation for a dry run. Note that `batch_step` is a variable that tracks the total number of times a model has been updated. For instance, if we run the training loop over 5 epochs (5 passes over the training set), where each epoch is split into 100 batches, then we have a `batch_step` count of 5 * 100 = 500 at the end of the training. "
   ]
  },
  {
   "cell_type": "code",
   "execution_count": 0,
   "metadata": {
    "colab": {
     "autoexec": {
      "startup": false,
      "wait_interval": 0
     }
    },
    "colab_type": "code",
    "id": "CQx-HDcyYWlu"
   },
   "outputs": [],
   "source": [
    "num_epochs = 50\n",
    "num_train = 50000\n",
    "batch_size = 100\n",
    "iter_per_ep = num_train // batch_size"
   ]
  },
  {
   "cell_type": "markdown",
   "metadata": {
    "colab_type": "text",
    "id": "87UblsShY7Uy"
   },
   "source": [
    "**Triangular**"
   ]
  },
  {
   "cell_type": "code",
   "execution_count": 6,
   "metadata": {
    "colab": {
     "autoexec": {
      "startup": false,
      "wait_interval": 0
     },
     "base_uri": "https://localhost:8080/",
     "height": 269
    },
    "colab_type": "code",
    "executionInfo": {
     "elapsed": 1089,
     "status": "ok",
     "timestamp": 1533766548627,
     "user": {
      "displayName": "Sebastian Raschka",
      "photoUrl": "//lh6.googleusercontent.com/-cxK6yOSQ6uE/AAAAAAAAAAI/AAAAAAAAIfw/P9ar_CHsKOQ/s50-c-k-no/photo.jpg",
      "userId": "118404394130788869227"
     },
     "user_tz": 300
    },
    "id": "qIHyChx8Y6Lu",
    "outputId": "1bc42ee8-8d2c-43c7-95e9-7e34ca800e1c"
   },
   "outputs": [
    {
     "data": {
      "image/png": "[encoded data removed]",
      "text/plain": [
       "<matplotlib.figure.Figure at 0x7fa5ef819a58>"
      ]
     },
     "metadata": {
      "tags": []
     },
     "output_type": "display_data"
    }
   ],
   "source": [
    "%matplotlib inline\n",
    "import matplotlib.pyplot as plt\n",
    "\n",
    "\n",
    "batch_step = -1\n",
    "collect_lr = []\n",
    "for e in range(num_epochs):\n",
    "    for i in range(iter_per_ep):\n",
    "        batch_step += 1\n",
    "        cur_lr = cyclical_learning_rate(batch_step=batch_step,\n",
    "                                        step_size=iter_per_ep*4)\n",
    "        \n",
    "        collect_lr.append(cur_lr)\n",
    "        \n",
    "plt.scatter(range(len(collect_lr)), collect_lr)\n",
    "plt.ylim([0.0, 0.01])\n",
    "plt.xlim([0, num_epochs*iter_per_ep + 5000])\n",
    "plt.show()"
   ]
  },
  {
   "cell_type": "markdown",
   "metadata": {
    "colab_type": "text",
    "id": "bMErqRevY-hO"
   },
   "source": [
    "**Triangular2**"
   ]
  },
  {
   "cell_type": "code",
   "execution_count": 7,
   "metadata": {
    "colab": {
     "autoexec": {
      "startup": false,
      "wait_interval": 0
     },
     "base_uri": "https://localhost:8080/",
     "height": 269
    },
    "colab_type": "code",
    "executionInfo": {
     "elapsed": 876,
     "status": "ok",
     "timestamp": 1533766549530,
     "user": {
      "displayName": "Sebastian Raschka",
      "photoUrl": "//lh6.googleusercontent.com/-cxK6yOSQ6uE/AAAAAAAAAAI/AAAAAAAAIfw/P9ar_CHsKOQ/s50-c-k-no/photo.jpg",
      "userId": "118404394130788869227"
     },
     "user_tz": 300
    },
    "id": "pATJZ3BbY9sZ",
    "outputId": "3d955485-fc57-4db1-a12d-4660180e0bde"
   },
   "outputs": [
    {
     "data": {
      "image/png": "[encoded data removed]",
      "text/plain": [
       "<matplotlib.figure.Figure at 0x7fa5a8776898>"
      ]
     },
     "metadata": {
      "tags": []
     },
     "output_type": "display_data"
    }
   ],
   "source": [
    "collect_lr = []\n",
    "batch_step = -1\n",
    "for e in range(num_epochs):\n",
    "    for i in range(iter_per_ep):\n",
    "        batch_step += 1\n",
    "        cur_lr = cyclical_learning_rate(batch_step=batch_step,\n",
    "                                        step_size=iter_per_ep*4,\n",
    "                                        mode='triangular2')\n",
    "        \n",
    "        collect_lr.append(cur_lr)\n",
    "        \n",
    "plt.scatter(range(len(collect_lr)), collect_lr)\n",
    "plt.ylim([0.0, 0.01])\n",
    "plt.xlim([0, num_epochs*iter_per_ep + 5000])\n",
    "plt.show()"
   ]
  },
  {
   "cell_type": "markdown",
   "metadata": {
    "colab_type": "text",
    "id": "ogc0gqPTZAjz"
   },
   "source": [
    "**Exp_range**"
   ]
  },
  {
   "cell_type": "code",
   "execution_count": 8,
   "metadata": {
    "colab": {
     "autoexec": {
      "startup": false,
      "wait_interval": 0
     },
     "base_uri": "https://localhost:8080/",
     "height": 269
    },
    "colab_type": "code",
    "executionInfo": {
     "elapsed": 926,
     "status": "ok",
     "timestamp": 1533766550485,
     "user": {
      "displayName": "Sebastian Raschka",
      "photoUrl": "//lh6.googleusercontent.com/-cxK6yOSQ6uE/AAAAAAAAAAI/AAAAAAAAIfw/P9ar_CHsKOQ/s50-c-k-no/photo.jpg",
      "userId": "118404394130788869227"
     },
     "user_tz": 300
    },
    "id": "SBm5Q7x9Zt54",
    "outputId": "ff1fda35-cd5c-4356-aaa5-38ede4450319"
   },
   "outputs": [
    {
     "data": {
      "image/png": "[encoded data removed]",
      "text/plain": [
       "<matplotlib.figure.Figure at 0x7fa5aa8059b0>"
      ]
     },
     "metadata": {
      "tags": []
     },
     "output_type": "display_data"
    }
   ],
   "source": [
    "collect_lr = []\n",
    "batch_step = -1\n",
    "for e in range(num_epochs):\n",
    "    for i in range(iter_per_ep):\n",
    "        batch_step += 1\n",
    "        cur_lr = cyclical_learning_rate(batch_step=batch_step,\n",
    "                                        step_size=iter_per_ep*4,\n",
    "                                        mode='exp_range',\n",
    "                                        gamma=0.99998)\n",
    "        \n",
    "        collect_lr.append(cur_lr)\n",
    "        \n",
    "plt.scatter(range(len(collect_lr)), collect_lr)\n",
    "plt.ylim([0.0, 0.01])\n",
    "plt.xlim([0, num_epochs*iter_per_ep + 5000])\n",
    "plt.show()"
   ]
  },
  {
   "cell_type": "markdown",
   "metadata": {
    "colab_type": "text",
    "id": "8HhNsfbmWUx7"
   },
   "source": [
    "## Torch Imports"
   ]
  },
  {
   "cell_type": "code",
   "execution_count": 0,
   "metadata": {
    "colab": {
     "autoexec": {
      "startup": false,
      "wait_interval": 0
     }
    },
    "colab_type": "code",
    "id": "ZfG-3PemWUx7"
   },
   "outputs": [],
   "source": [
    "import torch\n",
    "import torch.nn.functional as F\n",
    "from torchvision import datasets\n",
    "from torchvision import transforms\n",
    "from torch.utils.data.sampler import SubsetRandomSampler\n",
    "from torch.utils.data import DataLoader"
   ]
  },
  {
   "cell_type": "markdown",
   "metadata": {
    "colab_type": "text",
    "id": "7NYCdJSHWUx-"
   },
   "source": [
    "## Settings and Dataset"
   ]
  },
  {
   "cell_type": "code",
   "execution_count": 10,
   "metadata": {
    "colab": {
     "autoexec": {
      "startup": false,
      "wait_interval": 0
     },
     "base_uri": "https://localhost:8080/",
     "height": 119
    },
    "colab_type": "code",
    "executionInfo": {
     "elapsed": 10187,
     "status": "ok",
     "timestamp": 1533766561119,
     "user": {
      "displayName": "Sebastian Raschka",
      "photoUrl": "//lh6.googleusercontent.com/-cxK6yOSQ6uE/AAAAAAAAAAI/AAAAAAAAIfw/P9ar_CHsKOQ/s50-c-k-no/photo.jpg",
      "userId": "118404394130788869227"
     },
     "user_tz": 300
    },
    "id": "r0x1fTW0WUx_",
    "outputId": "0a4c2eda-9b1d-4b1a-b6bf-7ccd1a423b4e"
   },
   "outputs": [
    {
     "name": "stdout",
     "output_type": "stream",
     "text": [
      "Files already downloaded and verified\n",
      "Image batch dimensions: torch.Size([128, 3, 32, 32])\n",
      "Image label dimensions: torch.Size([128])\n",
      "Number of training examples: 49000\n",
      "Number of validation instances: 1000\n",
      "Number of test instances: 10000\n"
     ]
    }
   ],
   "source": [
    "##########################\n",
    "### SETTINGS\n",
    "##########################\n",
    "\n",
    "# Device\n",
    "device = torch.device(\"cuda:0\" if torch.cuda.is_available() else \"cpu\")\n",
    "\n",
    "# Hyperparameters\n",
    "random_seed = 1\n",
    "batch_size = 128\n",
    "\n",
    "# Architecture\n",
    "num_classes = 10\n",
    "\n",
    "\n",
    "##########################\n",
    "### CIFAR-10 DATASET\n",
    "##########################\n",
    "\n",
    "# Note transforms.ToTensor() scales input images\n",
    "# to 0-1 range\n",
    "\n",
    "## Create a validation dataset\n",
    "np.random.seed(random_seed)\n",
    "idx = np.arange(50000) # the size of CIFAR10-train\n",
    "np.random.shuffle(idx)\n",
    "val_idx, train_idx = idx[:1000], idx[1000:]\n",
    "train_sampler = SubsetRandomSampler(train_idx)\n",
    "val_sampler = SubsetRandomSampler(val_idx)\n",
    "\n",
    "\n",
    "train_dataset = datasets.CIFAR10(root='data', \n",
    "                                 train=True, \n",
    "                                 transform=transforms.ToTensor(),\n",
    "                                 download=True)\n",
    "\n",
    "test_dataset = datasets.CIFAR10(root='data', \n",
    "                                train=False, \n",
    "                                transform=transforms.ToTensor())\n",
    "\n",
    "\n",
    "train_loader = DataLoader(dataset=train_dataset, \n",
    "                          batch_size=batch_size, \n",
    "                          # shuffle=True, # Subsetsampler already shuffles\n",
    "                          sampler=train_sampler)\n",
    "\n",
    "val_loader = DataLoader(dataset=train_dataset, \n",
    "                        batch_size=batch_size, \n",
    "                        # shuffle=True,\n",
    "                        sampler=val_sampler)\n",
    "\n",
    "test_loader = DataLoader(dataset=test_dataset, \n",
    "                         batch_size=batch_size, \n",
    "                         shuffle=False)\n",
    "\n",
    "# Checking the dataset\n",
    "for images, labels in train_loader:  \n",
    "    print('Image batch dimensions:', images.shape)\n",
    "    print('Image label dimensions:', labels.shape)\n",
    "    break\n",
    "    \n",
    "cnt = 0\n",
    "for images, labels in train_loader: \n",
    "    cnt += images.shape[0]\n",
    "print('Number of training examples:', cnt)\n",
    "\n",
    "cnt = 0\n",
    "for images, labels in val_loader: \n",
    "    cnt += images.shape[0]\n",
    "print('Number of validation instances:', cnt)\n",
    "\n",
    "cnt = 0\n",
    "for images, labels in test_loader: \n",
    "    cnt += images.shape[0]\n",
    "print('Number of test instances:', cnt)"
   ]
  },
  {
   "cell_type": "markdown",
   "metadata": {
    "colab_type": "text",
    "id": "agDsuvseWUyC"
   },
   "source": [
    "## Model"
   ]
  },
  {
   "cell_type": "code",
   "execution_count": 0,
   "metadata": {
    "colab": {
     "autoexec": {
      "startup": false,
      "wait_interval": 0
     }
    },
    "colab_type": "code",
    "id": "luAg0-ncWUyD"
   },
   "outputs": [],
   "source": [
    "##########################\n",
    "### MODEL\n",
    "##########################\n",
    "\n",
    "\n",
    "class ConvNet(torch.nn.Module):\n",
    "\n",
    "    def __init__(self, num_classes):\n",
    "        super(ConvNet, self).__init__()\n",
    "        \n",
    "        # calculate same padding:\n",
    "        # (w - k + 2*p)/s + 1 = o\n",
    "        # => p = (s(o-1) - w + k)/2\n",
    "        \n",
    "        # 32x32x3 => 32x32x6\n",
    "        self.conv_1 = torch.nn.Conv2d(in_channels=3,\n",
    "                                      out_channels=6,\n",
    "                                      kernel_size=(3, 3),\n",
    "                                      stride=(1, 1),\n",
    "                                      padding=1) # (1(32-1) - 32 + 3) / 2) = 1\n",
    "        # 32x32x4 => 16x16x6\n",
    "        self.pool_1 = torch.nn.MaxPool2d(kernel_size=(2, 2),\n",
    "                                         stride=(2, 2),\n",
    "                                         padding=0) # (2(16-1) - 32 + 2) = 0                                       \n",
    "        \n",
    "        \n",
    "        # 16x16x6 => 16x16x12\n",
    "        self.conv_2 = torch.nn.Conv2d(in_channels=6,\n",
    "                                      out_channels=12,\n",
    "                                      kernel_size=(3, 3),\n",
    "                                      stride=(1, 1),\n",
    "                                      padding=1) # (1(16-1) - 16 + 3) / 2 = 1                 \n",
    "        # 16x16x12 => 8x8x12                             \n",
    "        self.pool_2 = torch.nn.MaxPool2d(kernel_size=(2, 2),\n",
    "                                         stride=(2, 2),\n",
    "                                         padding=0) # (2(8-1) - 16 + 2) = 0\n",
    "        \n",
    "        \n",
    "        # 8x8x12 => 8x8x18\n",
    "        self.conv_3 = torch.nn.Conv2d(in_channels=12,\n",
    "                                      out_channels=18,\n",
    "                                      kernel_size=(3, 3),\n",
    "                                      stride=(1, 1),\n",
    "                                      padding=1) # (1(8-1) - 8 + 3) / 2 = 1                 \n",
    "        # 8x8x18 => 4x4x18                             \n",
    "        self.pool_3 = torch.nn.MaxPool2d(kernel_size=(2, 2),\n",
    "                                         stride=(2, 2),\n",
    "                                         padding=0) # (2(4-1) - 8 + 2) = 0\n",
    "        \n",
    "        \n",
    "        # 4x4x18 => 4x4x24\n",
    "        self.conv_4 = torch.nn.Conv2d(in_channels=18,\n",
    "                                      out_channels=24,\n",
    "                                      kernel_size=(3, 3),\n",
    "                                      stride=(1, 1),\n",
    "                                      padding=1)                 \n",
    "        # 4x4x24 => 2x2x24                             \n",
    "        self.pool_4 = torch.nn.MaxPool2d(kernel_size=(2, 2),\n",
    "                                         stride=(2, 2),\n",
    "                                         padding=0)\n",
    "        \n",
    "        \n",
    "        # 2x2x24 => 2x2x30\n",
    "        self.conv_5 = torch.nn.Conv2d(in_channels=24,\n",
    "                                      out_channels=30,\n",
    "                                      kernel_size=(3, 3),\n",
    "                                      stride=(1, 1),\n",
    "                                      padding=1)                 \n",
    "        # 2x2x30 => 1x1x30                             \n",
    "        self.pool_5 = torch.nn.MaxPool2d(kernel_size=(2, 2),\n",
    "                                         stride=(2, 2),\n",
    "                                         padding=0)\n",
    "        \n",
    "        self.linear_1 = torch.nn.Linear(1*1*30, num_classes)\n",
    "\n",
    "        \n",
    "    def forward(self, x):\n",
    "        out = self.conv_1(x)\n",
    "        out = F.relu(out)\n",
    "        out = self.pool_1(out)\n",
    "\n",
    "        out = self.conv_2(out)\n",
    "        out = F.relu(out)\n",
    "        out = self.pool_2(out)\n",
    "        \n",
    "        out = self.conv_3(out)\n",
    "        out = F.relu(out)\n",
    "        out = self.pool_3(out)\n",
    "        \n",
    "        out = self.conv_4(out)\n",
    "        out = F.relu(out)\n",
    "        out = self.pool_4(out)\n",
    "        \n",
    "        out = self.conv_5(out)\n",
    "        out = F.relu(out)\n",
    "        out = self.pool_5(out)\n",
    "        \n",
    "        logits = self.linear_1(out.view(-1, 1*1*30))\n",
    "        probas = F.softmax(logits, dim=1)\n",
    "        return logits, probas"
   ]
  },
  {
   "cell_type": "markdown",
   "metadata": {
    "colab_type": "text",
    "id": "YwLP-0qkWUyF"
   },
   "source": [
    "## LR Range Test"
   ]
  },
  {
   "cell_type": "markdown",
   "metadata": {
    "colab_type": "text",
    "id": "Z_PvKZmYZ12N"
   },
   "source": [
    "The LR range test is a simple heuristic that is also described in Smith's paper. Essentially, it's a quick-and-dirty approach to find good values for the `base_lr` and `max_lr` (hyperparameters of the cyclical learning rate).\n",
    "\n",
    "It works as follows:\n",
    "\n",
    "We run the training for 5-10 epochs and increase the learning rate linearly up to an upper bound. We select the cut-off where the (train or validation) accuracy starts improving as the base_lr for the cyclical learning rate. The max_lr for the cyclical learning rate is determined in a similar manner, by choosing the cut-off value where the accuracy improvements stop, decrease, or widely fluctuate.\n",
    "\n",
    "Note that we can use the `cyclical_learning_rate` function to compute the learning rates for the increasing interval by setting `step_size=num_epochs*iter_per_ep`:"
   ]
  },
  {
   "cell_type": "code",
   "execution_count": 12,
   "metadata": {
    "colab": {
     "autoexec": {
      "startup": false,
      "wait_interval": 0
     },
     "base_uri": "https://localhost:8080/",
     "height": 269
    },
    "colab_type": "code",
    "executionInfo": {
     "elapsed": 558,
     "status": "ok",
     "timestamp": 1533766562004,
     "user": {
      "displayName": "Sebastian Raschka",
      "photoUrl": "//lh6.googleusercontent.com/-cxK6yOSQ6uE/AAAAAAAAAAI/AAAAAAAAIfw/P9ar_CHsKOQ/s50-c-k-no/photo.jpg",
      "userId": "118404394130788869227"
     },
     "user_tz": 300
    },
    "id": "Giqvby2abkA8",
    "outputId": "35d34314-f9a7-4dbe-98fd-bdbc94a08256"
   },
   "outputs": [
    {
     "data": {
      "image/png": "[encoded data removed]",
      "text/plain": [
       "<matplotlib.figure.Figure at 0x7fa5a8678128>"
      ]
     },
     "metadata": {
      "tags": []
     },
     "output_type": "display_data"
    }
   ],
   "source": [
    "num_epochs = 10\n",
    "\n",
    "batch_step = -1\n",
    "collect_lr = []\n",
    "for e in range(num_epochs):\n",
    "    for i in range(iter_per_ep):\n",
    "        batch_step += 1\n",
    "        cur_lr = cyclical_learning_rate(batch_step=batch_step,\n",
    "                                        step_size=num_epochs*iter_per_ep)\n",
    "        \n",
    "        collect_lr.append(cur_lr)\n",
    "        \n",
    "plt.scatter(range(len(collect_lr)), collect_lr)\n",
    "plt.ylim([0.0, 0.01])\n",
    "plt.xlim([0, num_epochs*iter_per_ep + 5000])\n",
    "plt.show()"
   ]
  },
  {
   "cell_type": "markdown",
   "metadata": {
    "colab_type": "text",
    "id": "VUEUn70QWUyG"
   },
   "source": [
    "**Utility Functions**"
   ]
  },
  {
   "cell_type": "code",
   "execution_count": 0,
   "metadata": {
    "colab": {
     "autoexec": {
      "startup": false,
      "wait_interval": 0
     }
    },
    "colab_type": "code",
    "id": "cQ46iEStWUyG"
   },
   "outputs": [],
   "source": [
    "def compute_accuracy(model, data_loader):\n",
    "    correct_pred, num_examples = 0, 0\n",
    "    for features, targets in data_loader:\n",
    "        features = features.to(device)\n",
    "        targets = targets.to(device)\n",
    "        logits, probas = model(features)\n",
    "        _, predicted_labels = torch.max(probas, 1)\n",
    "        num_examples += targets.size(0)\n",
    "        correct_pred += (predicted_labels == targets).sum()\n",
    "    return correct_pred.float()/num_examples * 100"
   ]
  },
  {
   "cell_type": "markdown",
   "metadata": {
    "colab_type": "text",
    "id": "QL7DF29vWUyK"
   },
   "source": [
    "**Train/Run LR Range Test**"
   ]
  },
  {
   "cell_type": "code",
   "execution_count": 0,
   "metadata": {
    "colab": {
     "autoexec": {
      "startup": false,
      "wait_interval": 0
     }
    },
    "colab_type": "code",
    "id": "WI-NY9u4WUyL"
   },
   "outputs": [],
   "source": [
    "#################################\n",
    "### Setting for this run\n",
    "#################################\n",
    "\n",
    "num_epochs = 10\n",
    "iter_per_epoch = len(train_loader.sampler.indices) // train_loader.batch_size\n",
    "base_lr = 0.001\n",
    "max_lr = 0.4\n",
    "\n",
    "#################################\n",
    "### Init Model\n",
    "#################################\n",
    "\n",
    "torch.manual_seed(random_seed)\n",
    "model = ConvNet(num_classes=num_classes)\n",
    "model = model.to(device)\n",
    "\n",
    "##########################\n",
    "### COST AND OPTIMIZER\n",
    "##########################\n",
    "\n",
    "cost_fn = torch.nn.CrossEntropyLoss()  \n",
    "optimizer = torch.optim.SGD(model.parameters(), lr=base_lr)  \n",
    "\n",
    "########################################################################\n",
    "# Collect the data to be evaluated via the LR Range Test\n",
    "collect = {'lr': [], 'cost': [], 'train_batch_acc': [], 'val_acc': []}\n",
    "########################################################################\n",
    "\n",
    "\n",
    "batch_step = -1\n",
    "for epoch in range(num_epochs):\n",
    "    epoch_avg_cost = 0.\n",
    "    model = model.train()\n",
    "    for batch_idx, (features, targets) in enumerate(train_loader):\n",
    "        \n",
    "        batch_step += 1\n",
    "        features = features.to(device)\n",
    "        targets = targets.to(device)\n",
    "\n",
    "        ### FORWARD AND BACK PROP\n",
    "        logits, probas = model(features)\n",
    "        cost = cost_fn(logits, targets)\n",
    "        optimizer.zero_grad()\n",
    "\n",
    "        cost.backward()\n",
    "\n",
    "        ### UPDATE MODEL PARAMETERS\n",
    "        optimizer.step()\n",
    "\n",
    "        epoch_avg_cost += cost\n",
    "        \n",
    "        #############################################\n",
    "        # Logging\n",
    "        if not batch_step % 200:\n",
    "            print('Total batch %5d/%d' % (batch_step, iter_per_epoch*num_epochs), end='')\n",
    "            print('   Cost: %.5f' % cost)     \n",
    "\n",
    "\n",
    "        #############################################\n",
    "        # Collect stats    \n",
    "        model = model.eval()\n",
    "        train_acc = compute_accuracy(model, train_loader)\n",
    "        val_acc = compute_accuracy(model, val_loader)\n",
    "        collect['lr'].append(base_lr)\n",
    "        collect['train_batch_acc'].append(train_acc)\n",
    "        collect['val_acc'].append(val_acc)\n",
    "        collect['cost'].append(epoch_avg_cost / batch_idx+1)\n",
    "\n",
    "        #############################################\n",
    "        # update learning rate\n",
    "        base_lr = cyclical_learning_rate(batch_step=batch_step,\n",
    "                                         step_size=num_epochs*iter_per_epoch,\n",
    "                                         base_lr=base_lr,\n",
    "                                         max_lr=max_lr)\n",
    "        for g in optimizer.param_groups:\n",
    "            g['lr'] = base_lr\n",
    "        ############################################"
   ]
  },
  {
   "cell_type": "markdown",
   "metadata": {
    "colab_type": "text",
    "id": "24Ff8ahwWUyN"
   },
   "source": [
    "**Evaluate**"
   ]
  },
  {
   "cell_type": "code",
   "execution_count": 16,
   "metadata": {
    "colab": {
     "autoexec": {
      "startup": false,
      "wait_interval": 0
     },
     "base_uri": "https://localhost:8080/",
     "height": 541
    },
    "colab_type": "code",
    "executionInfo": {
     "elapsed": 738,
     "status": "ok",
     "timestamp": 1533766860287,
     "user": {
      "displayName": "Sebastian Raschka",
      "photoUrl": "//lh6.googleusercontent.com/-cxK6yOSQ6uE/AAAAAAAAAAI/AAAAAAAAIfw/P9ar_CHsKOQ/s50-c-k-no/photo.jpg",
      "userId": "118404394130788869227"
     },
     "user_tz": 300
    },
    "id": "_hOJ7z1-WUyN",
    "outputId": "e69752b3-3f23-46cf-f009-b495e2082152"
   },
   "outputs": [
    {
     "data": {
      "image/png": "[encoded data removed]",
      "text/plain": [
       "<matplotlib.figure.Figure at 0x7fa5a7e41550>"
      ]
     },
     "metadata": {
      "tags": []
     },
     "output_type": "display_data"
    },
    {
     "data": {
      "image/png": "[encoded data removed]",
      "text/plain": [
       "<matplotlib.figure.Figure at 0x7fa5a7d83550>"
      ]
     },
     "metadata": {
      "tags": []
     },
     "output_type": "display_data"
    }
   ],
   "source": [
    "plt.plot(collect['lr'], collect['train_batch_acc'], label='train_batch_acc')\n",
    "plt.plot(collect['lr'], collect['val_acc'], label='val_acc')\n",
    "plt.xlabel('Learning Rate')\n",
    "plt.ylabel('Accuracy')\n",
    "plt.legend()\n",
    "plt.show()\n",
    "\n",
    "\n",
    "plt.plot(collect['lr'], collect['cost'])\n",
    "plt.xlabel('Learning Rate')\n",
    "plt.ylabel('Avg Cost Per Epoch')\n",
    "plt.show()"
   ]
  },
  {
   "cell_type": "markdown",
   "metadata": {
    "colab_type": "text",
    "id": "KcZ2vv8foEcP"
   },
   "source": [
    "## Train with Cyclical Learning Rate"
   ]
  },
  {
   "cell_type": "code",
   "execution_count": 0,
   "metadata": {
    "colab": {
     "autoexec": {
      "startup": false,
      "wait_interval": 0
     }
    },
    "colab_type": "code",
    "id": "W_MyHO0HoIz8"
   },
   "outputs": [],
   "source": [
    "#################################\n",
    "### Setting for this run\n",
    "#################################\n",
    "\n",
    "num_epochs = 100\n",
    "iter_per_epoch = len(train_loader.sampler.indices) // train_loader.batch_size\n",
    "base_lr = 0.06\n",
    "max_lr = 0.2\n",
    "\n",
    "#################################\n",
    "### Init Model\n",
    "#################################\n",
    "\n",
    "torch.manual_seed(random_seed)\n",
    "model = ConvNet(num_classes=num_classes)\n",
    "model = model.to(device)\n",
    "\n",
    "##########################\n",
    "### COST AND OPTIMIZER\n",
    "##########################\n",
    "\n",
    "cost_fn = torch.nn.CrossEntropyLoss()  \n",
    "optimizer = torch.optim.SGD(model.parameters(), lr=base_lr)  \n",
    "\n",
    "########################################################################\n",
    "# Collect the data to be evaluated via the LR Range Test\n",
    "collect = {'lr': [], 'cost': [], 'train_batch_acc': [], 'val_acc': []}\n",
    "########################################################################\n",
    "\n",
    "\n",
    "batch_step = -1\n",
    "for epoch in range(num_epochs):\n",
    "    epoch_avg_cost = 0.\n",
    "    model = model.train()\n",
    "    for batch_idx, (features, targets) in enumerate(train_loader):\n",
    "        \n",
    "        batch_step += 1\n",
    "        features = features.to(device)\n",
    "        targets = targets.to(device)\n",
    "\n",
    "        ### FORWARD AND BACK PROP\n",
    "        logits, probas = model(features)\n",
    "        cost = cost_fn(logits, targets)\n",
    "        optimizer.zero_grad()\n",
    "\n",
    "        cost.backward()\n",
    "\n",
    "        ### UPDATE MODEL PARAMETERS\n",
    "        optimizer.step()\n",
    "\n",
    "        epoch_avg_cost += cost\n",
    "        \n",
    "        #############################################\n",
    "        # Logging\n",
    "        if not batch_step % 200:\n",
    "            print('Batch %5d/%d' % (batch_step, iter_per_epoch*num_epochs), end='')\n",
    "            print('   Cost: %.5f' % cost)     \n",
    "\n",
    "\n",
    "    #############################################\n",
    "    # Collect stats    \n",
    "    model = model.eval()\n",
    "    train_acc = compute_accuracy(model, train_loader)\n",
    "    val_acc = compute_accuracy(model, val_loader)\n",
    "    epoch_avg_cost /= batch_idx+1\n",
    "    collect['lr'].append(base_lr)\n",
    "    collect['train_batch_acc'].append(train_acc)\n",
    "    collect['val_acc'].append(val_acc)\n",
    "    collect['cost'].append(epoch_avg_cost)\n",
    "    \n",
    "    #############################################\n",
    "    # update learning rate\n",
    "    base_lr = cyclical_learning_rate(batch_step=batch_step,\n",
    "                                     step_size=num_epochs*iter_per_epoch,\n",
    "                                     base_lr=base_lr,\n",
    "                                     max_lr=max_lr)\n",
    "    for g in optimizer.param_groups:\n",
    "        g['lr'] = base_lr\n",
    "    ############################################"
   ]
  }
 ],
 "metadata": {
  "accelerator": "GPU",
  "colab": {
   "collapsed_sections": [],
   "default_view": {},
   "name": "learning-rate-cyclic.ipynb",
   "provenance": [],
   "version": "0.3.2",
   "views": {}
  },
  "kernelspec": {
   "display_name": "Python 3",
   "language": "python",
   "name": "python3"
  },
  "language_info": {
   "codemirror_mode": {
    "name": "ipython",
    "version": 3
   },
   "file_extension": ".py",
   "mimetype": "text/x-python",
   "name": "python",
   "nbconvert_exporter": "python",
   "pygments_lexer": "ipython3",
   "version": "3.6.6"
  }
 },
 "nbformat": 4,
 "nbformat_minor": 1
}
